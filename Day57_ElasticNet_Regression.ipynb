{
 "cells": [
  {
   "cell_type": "code",
   "execution_count": 25,
   "id": "d20bbe47-be52-4db7-9086-23a692831af7",
   "metadata": {},
   "outputs": [],
   "source": [
    "from sklearn.datasets import load_diabetes\n",
    "from sklearn.linear_model import LinearRegression,Ridge,Lasso,ElasticNet\n",
    "from sklearn.model_selection import train_test_split\n",
    "from sklearn.metrics import r2_score\n",
    "import pandas as pd"
   ]
  },
  {
   "cell_type": "code",
   "execution_count": 3,
   "id": "9d504d84-02b7-4eb3-8fed-bb0b4d35d192",
   "metadata": {},
   "outputs": [],
   "source": [
    "X,y = load_diabetes(return_X_y=True)"
   ]
  },
  {
   "cell_type": "code",
   "execution_count": 4,
   "id": "8a88350d-4cad-4d29-ae1f-dc83d04ee930",
   "metadata": {},
   "outputs": [],
   "source": [
    "X_train,X_test,y_train,y_test = train_test_split(X,y,test_size=0.2,random_state=2)"
   ]
  },
  {
   "cell_type": "code",
   "execution_count": 5,
   "id": "e8877088-5a78-40ff-bb05-28b6ff922e12",
   "metadata": {},
   "outputs": [
    {
     "data": {
      "text/plain": [
       "0.4399338661568969"
      ]
     },
     "execution_count": 5,
     "metadata": {},
     "output_type": "execute_result"
    }
   ],
   "source": [
    "# LinearRegression Without any Regulization\n",
    "Lr=LinearRegression()\n",
    "Lr.fit(X_train,y_train)\n",
    "y_pred=Lr.predict(X_test)\n",
    "r2_score(y_test,y_pred)"
   ]
  },
  {
   "cell_type": "code",
   "execution_count": 11,
   "id": "f2d4a8d2-1d69-42a7-aaf4-8e01c082c1a6",
   "metadata": {},
   "outputs": [
    {
     "data": {
      "text/plain": [
       "0.45353669074105607"
      ]
     },
     "execution_count": 11,
     "metadata": {},
     "output_type": "execute_result"
    }
   ],
   "source": [
    "# Ridge Regression\n",
    "reg = Ridge(alpha=0.2)\n",
    "reg.fit(X_train,y_train)\n",
    "y_pred = reg.predict(X_test)\n",
    "r2_score(y_test,y_pred)"
   ]
  },
  {
   "cell_type": "code",
   "execution_count": 15,
   "id": "0b1b6e0c-6db3-457d-8051-5d75786a25ac",
   "metadata": {},
   "outputs": [
    {
     "data": {
      "text/plain": [
       "0.44111855963110613"
      ]
     },
     "execution_count": 15,
     "metadata": {},
     "output_type": "execute_result"
    }
   ],
   "source": [
    "# Lasso Regression\n",
    "ls = Lasso(alpha=0.01)\n",
    "ls.fit(X_train,y_train)\n",
    "y_pred = ls.predict(X_test)\n",
    "r2_score(y_test,y_pred)"
   ]
  },
  {
   "cell_type": "code",
   "execution_count": 24,
   "id": "5a3c882e-b0b2-4ea7-96e1-d222e4b6f1a9",
   "metadata": {},
   "outputs": [
    {
     "data": {
      "text/plain": [
       "0.4531474541554823"
      ]
     },
     "execution_count": 24,
     "metadata": {},
     "output_type": "execute_result"
    }
   ],
   "source": [
    "# ElasticNet Regression\n",
    "El = ElasticNet(alpha = 0.005,l1_ratio=0.9)\n",
    "El.fit(X_train,y_train)\n",
    "y_pred = El.predict(X_test)\n",
    "r2_score(y_test,y_pred)"
   ]
  },
  {
   "cell_type": "code",
   "execution_count": null,
   "id": "fd974bfc-35d5-4eab-aa2e-f00d20bf7e95",
   "metadata": {},
   "outputs": [],
   "source": [
    "# Home work \n",
    "# LOad a dataset on kaggle and apply ridge,lasso and elasticnet"
   ]
  },
  {
   "cell_type": "code",
   "execution_count": null,
   "id": "9dd4e6b4-9945-4661-9b5d-704a17a9904f",
   "metadata": {},
   "outputs": [],
   "source": []
  },
  {
   "cell_type": "code",
   "execution_count": null,
   "id": "4d37aa7f-82d7-464d-80f5-43ac8c5566e4",
   "metadata": {},
   "outputs": [],
   "source": []
  }
 ],
 "metadata": {
  "kernelspec": {
   "display_name": "Python 3 (ipykernel)",
   "language": "python",
   "name": "python3"
  },
  "language_info": {
   "codemirror_mode": {
    "name": "ipython",
    "version": 3
   },
   "file_extension": ".py",
   "mimetype": "text/x-python",
   "name": "python",
   "nbconvert_exporter": "python",
   "pygments_lexer": "ipython3",
   "version": "3.10.8"
  }
 },
 "nbformat": 4,
 "nbformat_minor": 5
}
